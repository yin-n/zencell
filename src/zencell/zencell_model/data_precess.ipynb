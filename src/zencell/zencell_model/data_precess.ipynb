{
 "cells": [
  {
   "cell_type": "markdown",
   "metadata": {},
   "source": [
    "### load output"
   ]
  },
  {
   "cell_type": "code",
   "execution_count": 1,
   "metadata": {},
   "outputs": [],
   "source": [
    "import numpy as np"
   ]
  },
  {
   "cell_type": "code",
   "execution_count": 8,
   "metadata": {},
   "outputs": [],
   "source": [
    "output = np.load('/mnt/aperto/yin/MAE/inference_model/output.npy')"
   ]
  },
  {
   "cell_type": "code",
   "execution_count": 10,
   "metadata": {},
   "outputs": [
    {
     "data": {
      "text/plain": [
       "(1, 4, 40, 256, 256)"
      ]
     },
     "execution_count": 10,
     "metadata": {},
     "output_type": "execute_result"
    }
   ],
   "source": [
    "output.shape"
   ]
  },
  {
   "cell_type": "code",
   "execution_count": 18,
   "metadata": {},
   "outputs": [],
   "source": [
    "dP = np.zeros((3, 40, 256, 256), dtype=np.float32)\n",
    "dP[0] = output[0,1].astype(np.float32)\n",
    "dP[1] = output[0,2].astype(np.float32)\n",
    "dP[2] =  output[0,3].astype(np.float32)\n",
    "cellprob =  output[0,0].astype(np.float32)"
   ]
  },
  {
   "cell_type": "code",
   "execution_count": 27,
   "metadata": {},
   "outputs": [
    {
     "data": {
      "text/plain": [
       "<matplotlib.image.AxesImage at 0x72bcb19fa7d0>"
      ]
     },
     "execution_count": 27,
     "metadata": {},
     "output_type": "execute_result"
    },
    {
     "data": {
      "image/png": "[encoded data removed]",
      "text/plain": [
       "<Figure size 640x480 with 1 Axes>"
      ]
     },
     "metadata": {},
     "output_type": "display_data"
    }
   ],
   "source": [
    "import matplotlib.pyplot as plt\n",
    "\n",
    "plt.imshow(dP[0,:,100,:])"
   ]
  },
  {
   "cell_type": "code",
   "execution_count": 23,
   "metadata": {},
   "outputs": [],
   "source": [
    "cellmask = cp_dynamics.compute_masks(dP, cellprob, min_size=0, flow_threshold=None, cellprob_threshold = 0.5, do_3D=True)"
   ]
  },
  {
   "cell_type": "code",
   "execution_count": 28,
   "metadata": {},
   "outputs": [],
   "source": [
    "from cellpose import dynamics\n",
    "\n",
    "cellmask_uptdate = dynamics.compute_masks(dP, cellprob, min_size=0, flow_threshold=None, cellprob_threshold = 0.5, do_3D=True)"
   ]
  },
  {
   "cell_type": "code",
   "execution_count": 32,
   "metadata": {},
   "outputs": [
    {
     "data": {
      "text/plain": [
       "2"
      ]
     },
     "execution_count": 32,
     "metadata": {},
     "output_type": "execute_result"
    }
   ],
   "source": [
    "len(cellmask_uptdate)"
   ]
  },
  {
   "cell_type": "code",
   "execution_count": 38,
   "metadata": {},
   "outputs": [],
   "source": [
    "from napari_cellseg3d.code_models.models.zencell.cellpose.dynamics import (\n",
    "    compute_masks,\n",
    ")\n",
    "\n",
    "prob1 = np.load('/mnt/aperto/yin/napari_cellseg/napari_cellseg3d/code_models/models/zencell/output/sig1_ref3_z1200_y4000_x3000_cell_prob.npy')\n",
    "flow1 = np.load('/mnt/aperto/yin/napari_cellseg/napari_cellseg3d/code_models/models/zencell/output/sig1_ref3_z1200_y4000_x3000_cell_flow.npy')"
   ]
  },
  {
   "cell_type": "code",
   "execution_count": 39,
   "metadata": {},
   "outputs": [],
   "source": [
    "\n",
    "cellmask_uptdate = compute_masks(flow1, prob1, min_size=0, flow_threshold=None, cellprob_threshold = 0.5, do_3D=True)"
   ]
  },
  {
   "cell_type": "code",
   "execution_count": null,
   "metadata": {},
   "outputs": [
    {
     "data": {
      "text/plain": [
       "array([[[0, 0, 0, ..., 0, 0, 0],\n",
       "        [0, 0, 0, ..., 0, 0, 0],\n",
       "        [0, 0, 0, ..., 0, 0, 0],\n",
       "        ...,\n",
       "        [0, 0, 0, ..., 0, 0, 0],\n",
       "        [0, 0, 0, ..., 0, 0, 0],\n",
       "        [0, 0, 0, ..., 0, 0, 0]],\n",
       "\n",
       "       [[0, 0, 0, ..., 0, 0, 0],\n",
       "        [0, 0, 0, ..., 0, 0, 0],\n",
       "        [0, 0, 0, ..., 0, 0, 0],\n",
       "        ...,\n",
       "        [0, 0, 0, ..., 0, 0, 0],\n",
       "        [0, 0, 0, ..., 0, 0, 0],\n",
       "        [0, 0, 0, ..., 0, 0, 0]],\n",
       "\n",
       "       [[0, 0, 0, ..., 0, 0, 0],\n",
       "        [0, 0, 0, ..., 0, 0, 0],\n",
       "        [0, 0, 0, ..., 0, 0, 0],\n",
       "        ...,\n",
       "        [0, 0, 0, ..., 0, 0, 0],\n",
       "        [0, 0, 0, ..., 0, 0, 0],\n",
       "        [0, 0, 0, ..., 0, 0, 0]],\n",
       "\n",
       "       ...,\n",
       "\n",
       "       [[0, 0, 0, ..., 0, 0, 0],\n",
       "        [0, 0, 0, ..., 0, 0, 0],\n",
       "        [0, 0, 0, ..., 0, 0, 0],\n",
       "        ...,\n",
       "        [0, 0, 0, ..., 0, 0, 0],\n",
       "        [0, 0, 0, ..., 0, 0, 0],\n",
       "        [0, 0, 0, ..., 0, 0, 0]],\n",
       "\n",
       "       [[0, 0, 0, ..., 0, 0, 0],\n",
       "        [0, 0, 0, ..., 0, 0, 0],\n",
       "        [0, 0, 0, ..., 0, 0, 0],\n",
       "        ...,\n",
       "        [0, 0, 0, ..., 0, 0, 0],\n",
       "        [0, 0, 0, ..., 0, 0, 0],\n",
       "        [0, 0, 0, ..., 0, 0, 0]],\n",
       "\n",
       "       [[0, 0, 0, ..., 0, 0, 0],\n",
       "        [0, 0, 0, ..., 0, 0, 0],\n",
       "        [0, 0, 0, ..., 0, 0, 0],\n",
       "        ...,\n",
       "        [0, 0, 0, ..., 0, 0, 0],\n",
       "        [0, 0, 0, ..., 0, 0, 0],\n",
       "        [0, 0, 0, ..., 0, 0, 0]]], dtype=uint16)"
      ]
     },
     "execution_count": 41,
     "metadata": {},
     "output_type": "execute_result"
    }
   ],
   "source": [
    "cellmask_uptdate[0]"
   ]
  },
  {
   "cell_type": "code",
   "execution_count": null,
   "metadata": {},
   "outputs": [
    {
     "ename": "TypeError",
     "evalue": "Only integer types are supported for Labels layers, but data contains float32.",
     "output_type": "error",
     "traceback": [
      "\u001b[31m---------------------------------------------------------------------------\u001b[39m",
      "\u001b[31mTypeError\u001b[39m                                 Traceback (most recent call last)",
      "\u001b[36mCell\u001b[39m\u001b[36m \u001b[39m\u001b[32mIn[43]\u001b[39m\u001b[32m, line 3\u001b[39m\n\u001b[32m      1\u001b[39m \u001b[38;5;28;01mimport\u001b[39;00m\u001b[38;5;250m \u001b[39m\u001b[34;01mnapari\u001b[39;00m\n\u001b[32m      2\u001b[39m viewer = napari.Viewer()\n\u001b[32m----> \u001b[39m\u001b[32m3\u001b[39m \u001b[43mviewer\u001b[49m\u001b[43m.\u001b[49m\u001b[43madd_labels\u001b[49m\u001b[43m(\u001b[49m\u001b[43mcellmask_uptdate\u001b[49m\u001b[43m[\u001b[49m\u001b[32;43m1\u001b[39;49m\u001b[43m]\u001b[49m\u001b[43m,\u001b[49m\u001b[43m \u001b[49m\u001b[43mblending\u001b[49m\u001b[43m=\u001b[49m\u001b[33;43m'\u001b[39;49m\u001b[33;43madditive\u001b[39;49m\u001b[33;43m'\u001b[39;49m\u001b[43m)\u001b[49m\n\u001b[32m      4\u001b[39m \u001b[38;5;66;03m#viewer.add_image(flow1)\u001b[39;00m\n\u001b[32m      5\u001b[39m \u001b[38;5;66;03m# viewer.add_image(prob2)\u001b[39;00m\n\u001b[32m      6\u001b[39m \u001b[38;5;66;03m# viewer.add_image(flow2)\u001b[39;00m\n",
      "\u001b[36mFile \u001b[39m\u001b[32m/mnt/aperto/anaconda/envs/mae_cell_new/lib/python3.11/site-packages/napari/utils/add_layer.py_tmpl:7\u001b[39m, in \u001b[36madd_labels\u001b[39m\u001b[34m(self, data, affine, axis_labels, blending, cache, colormap, depiction, experimental_clipping_planes, features, iso_gradient_mode, metadata, multiscale, name, opacity, plane, projection_mode, properties, rendering, rotate, scale, shear, translate, units, visible)\u001b[39m\n\u001b[32m      5\u001b[39m for name in getattr({cls_name}.__init__, \"_deprecated_constructor_args\", []):\n\u001b[32m      6\u001b[39m     pos_kwargs[name] = kwargs.pop(name, None)\n\u001b[32m----> \u001b[39m\u001b[32m7\u001b[39m layer = {cls_name}(**kwargs)\n\u001b[32m      8\u001b[39m for name, value in pos_kwargs.items():\n\u001b[32m      9\u001b[39m     if value is not None:\n",
      "\u001b[36mFile \u001b[39m\u001b[32m/mnt/aperto/anaconda/envs/mae_cell_new/lib/python3.11/site-packages/napari/layers/base/base.py:114\u001b[39m, in \u001b[36mPostInit.__call__\u001b[39m\u001b[34m(self, *args, **kwargs)\u001b[39m\n\u001b[32m    113\u001b[39m \u001b[38;5;28;01mdef\u001b[39;00m\u001b[38;5;250m \u001b[39m\u001b[34m__call__\u001b[39m(\u001b[38;5;28mself\u001b[39m, *args, **kwargs):\n\u001b[32m--> \u001b[39m\u001b[32m114\u001b[39m     obj = \u001b[38;5;28;43msuper\u001b[39;49m\u001b[43m(\u001b[49m\u001b[43m)\u001b[49m\u001b[43m.\u001b[49m\u001b[34;43m__call__\u001b[39;49m\u001b[43m(\u001b[49m\u001b[43m*\u001b[49m\u001b[43margs\u001b[49m\u001b[43m,\u001b[49m\u001b[43m \u001b[49m\u001b[43m*\u001b[49m\u001b[43m*\u001b[49m\u001b[43mkwargs\u001b[49m\u001b[43m)\u001b[49m\n\u001b[32m    115\u001b[39m     obj._post_init()\n\u001b[32m    116\u001b[39m     \u001b[38;5;28;01mreturn\u001b[39;00m obj\n",
      "\u001b[36mFile \u001b[39m\u001b[32m/mnt/aperto/anaconda/envs/mae_cell_new/lib/python3.11/site-packages/napari/layers/labels/labels.py:346\u001b[39m, in \u001b[36mLabels.__init__\u001b[39m\u001b[34m(self, data, affine, axis_labels, blending, cache, colormap, depiction, experimental_clipping_planes, features, iso_gradient_mode, metadata, multiscale, name, opacity, plane, projection_mode, properties, rendering, rotate, scale, shear, translate, units, visible)\u001b[39m\n\u001b[32m    343\u001b[39m \u001b[38;5;28mself\u001b[39m._show_selected_label = \u001b[38;5;28;01mFalse\u001b[39;00m\n\u001b[32m    344\u001b[39m \u001b[38;5;28mself\u001b[39m._contour = \u001b[32m0\u001b[39m\n\u001b[32m--> \u001b[39m\u001b[32m346\u001b[39m data = \u001b[38;5;28;43mself\u001b[39;49m\u001b[43m.\u001b[49m\u001b[43m_ensure_int_labels\u001b[49m\u001b[43m(\u001b[49m\u001b[43mdata\u001b[49m\u001b[43m)\u001b[49m\n\u001b[32m    348\u001b[39m \u001b[38;5;28msuper\u001b[39m().\u001b[34m__init__\u001b[39m(\n\u001b[32m    349\u001b[39m     data,\n\u001b[32m    350\u001b[39m     affine=affine,\n\u001b[32m   (...)\u001b[39m\u001b[32m    368\u001b[39m     visible=visible,\n\u001b[32m    369\u001b[39m )\n\u001b[32m    371\u001b[39m \u001b[38;5;28mself\u001b[39m.events.add(\n\u001b[32m    372\u001b[39m     brush_shape=Event,\n\u001b[32m    373\u001b[39m     brush_size=Event,\n\u001b[32m   (...)\u001b[39m\u001b[32m    385\u001b[39m     show_selected_label=Event,\n\u001b[32m    386\u001b[39m )\n",
      "\u001b[36mFile \u001b[39m\u001b[32m/mnt/aperto/anaconda/envs/mae_cell_new/lib/python3.11/site-packages/napari/layers/labels/labels.py:664\u001b[39m, in \u001b[36mLabels._ensure_int_labels\u001b[39m\u001b[34m(self, data)\u001b[39m\n\u001b[32m    660\u001b[39m \u001b[38;5;28;01mfor\u001b[39;00m data_level \u001b[38;5;129;01min\u001b[39;00m data:\n\u001b[32m    661\u001b[39m     \u001b[38;5;66;03m# normalize_dtype turns e.g. tensorstore or torch dtypes into\u001b[39;00m\n\u001b[32m    662\u001b[39m     \u001b[38;5;66;03m# numpy dtypes\u001b[39;00m\n\u001b[32m    663\u001b[39m     \u001b[38;5;28;01mif\u001b[39;00m np.issubdtype(normalize_dtype(data_level.dtype), np.floating):\n\u001b[32m--> \u001b[39m\u001b[32m664\u001b[39m         \u001b[38;5;28;01mraise\u001b[39;00m \u001b[38;5;167;01mTypeError\u001b[39;00m(\n\u001b[32m    665\u001b[39m             trans._(\n\u001b[32m    666\u001b[39m                 \u001b[33m'\u001b[39m\u001b[33mOnly integer types are supported for Labels layers, but data contains \u001b[39m\u001b[38;5;132;01m{data_level_type}\u001b[39;00m\u001b[33m.\u001b[39m\u001b[33m'\u001b[39m,\n\u001b[32m    667\u001b[39m                 data_level_type=data_level.dtype,\n\u001b[32m    668\u001b[39m             )\n\u001b[32m    669\u001b[39m         )\n\u001b[32m    670\u001b[39m     \u001b[38;5;28;01mif\u001b[39;00m data_level.dtype == \u001b[38;5;28mbool\u001b[39m:\n\u001b[32m    671\u001b[39m         int_data.append(data_level.view(np.uint8))\n",
      "\u001b[31mTypeError\u001b[39m: Only integer types are supported for Labels layers, but data contains float32."
     ]
    }
   ],
   "source": [
    "import napari\n",
    "\n",
    "viewer = napari.Viewer()\n",
    "viewer.add_labels(cellmask_uptdate[0], blending='additive')\n",
    "#viewer.add_image(flow1)\n",
    "# viewer.add_image(prob2)\n",
    "# viewer.add_image(flow2)"
   ]
  },
  {
   "cell_type": "markdown",
   "metadata": {},
   "source": []
  },
  {
   "cell_type": "code",
   "execution_count": 22,
   "metadata": {},
   "outputs": [],
   "source": [
    "z,y,x =prob.shape"
   ]
  },
  {
   "cell_type": "code",
   "execution_count": null,
   "metadata": {},
   "outputs": [],
   "source": []
  }
 ],
 "metadata": {
  "kernelspec": {
   "display_name": "mae_cell_new",
   "language": "python",
   "name": "python3"
  },
  "language_info": {
   "codemirror_mode": {
    "name": "ipython",
    "version": 3
   },
   "file_extension": ".py",
   "mimetype": "text/x-python",
   "name": "python",
   "nbconvert_exporter": "python",
   "pygments_lexer": "ipython3",
   "version": "3.11.11"
  }
 },
 "nbformat": 4,
 "nbformat_minor": 2
}
